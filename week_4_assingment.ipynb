{
 "cells": [
  {
   "cell_type": "markdown",
   "metadata": {},
   "source": [
    "# AI Job Dataset – Ultimate EDA & Data Visualization Project\n",
    "A deep-dive into AI jobs, covering salary, skills, experience, trends, company insights, and much more. Visual, creative, and full-spectrum analysis.\n",
    "\n",
    "---\n",
    "## 1. Setup & Data Load"
   ]
  },
  {
   "cell_type": "code",
   "metadata": {},
   "outputs": [],
   "source": [
    "import pandas as pd\n",
    "import numpy as np\n",
    "import matplotlib.pyplot as plt\n",
    "import seaborn as sns\n",
    "import plotly.express as px\n",
    "import plotly.graph_objects as go\n",
    "import warnings\n",
    "warnings.filterwarnings('ignore')\n",
    "\n",
    "pd.set_option('display.max_columns', None)\n",
    "\n",
    "df = pd.read_csv('ai_job_dataset.csv')"
   ]
  },
  {
   "cell_type": "markdown",
   "metadata": {},
   "source": [
    "## 2. Initial Exploration"
   ]
  },
  {
   "cell_type": "code",
   "metadata": {},
   "outputs": [],
   "source": [
    "display(df.head())\n",
    "df.info()"
   ]
  },
  {
   "cell_type": "code",
   "metadata": {},
   "outputs": [],
   "source": [
    "print('Rows:', df.shape[0], '| Columns:', df.shape[1])"
   ]
  },
  {
   "cell_type": "markdown",
   "metadata": {},
   "source": [
    "## 3. Data Cleaning & Feature Engineering"
   ]
  },
  {
   "cell_type": "code",
   "metadata": {},
   "outputs": [],
   "source": [
    "df['posting_date'] = pd.to_datetime(df['posting_date'], errors='coerce')\n",
    "df['application_deadline'] = pd.to_datetime(df['application_deadline'], errors='coerce')\n",
    "\n",
    "for col in ['experience_level', 'employment_type', 'company_size', 'education_required', 'industry']:\n",
    "    df[col] = df[col'].astype(str).str.title()\n",
    "\n",
    "df['posting_year'] = df['posting_date'].dt.year\n",
    "df['posting_month'] = df['posting_date'].dt.month\n",
    "df['deadline_gap_days'] = (df['application_deadline'] - df['posting_date']).dt.days\n",
    "df['remote_ratio'] = df['remote_ratio'].fillna(0)"
   ]
  },
  {
   "cell_type": "code",
   "metadata": {},
   "outputs": [],
   "source": [
    "# Salary normalization (for multi-currency)\n",
    "cur_map = {'USD':1, 'EUR':1.09, 'GBP':1.27}\n",
    "df['salary_converted'] = df['salary_usd']\n",
    "for cur, rate in cur_map.items():\n",
    "    df.loc[df['salary_currency'] == cur, 'salary_converted'] = df.loc[df['salary_currency'] == cur, 'salary_usd'] * rate"
   ]
  },
  {
   "cell_type": "markdown",
   "metadata": {},
   "source": [
    "## 4. Missing Values & Duplicates"
   ]
  },
  {
   "cell_type": "code",
   "metadata": {},
   "outputs": [],
   "source": [
    "missing = df.isnull().mean().sort_values(ascending=False)\n",
    "display(missing[missing > 0])\n",
    "print('Duplicated rows:', df.duplicated().sum())"
   ]
  },
  {
   "cell_type": "code",
   "metadata": {},
   "outputs": [],
   "source": [
    "# Drop exact duplicates\n",
    "df = df.drop_duplicates()"
   ]
  },
  {
   "cell_type": "markdown",
   "metadata": {},
   "source": [
    "## 5. Data Overview & Univariate Analysis"
   ]
  },
  {
   "cell_type": "code",
   "metadata": {},
   "outputs": [],
   "source": [
    "df.describe(include='all').T"
   ]
  },
  {
   "cell_type": "markdown",
   "metadata": {},
   "source": [
    "### 5.1 Salary Distribution"
   ]
  },
  {
   "cell_type": "code",
   "metadata": {},
   "outputs": [],
   "source": [
    "plt.figure(figsize=(12,6))\n",
    "sns.histplot(df['salary_converted'], bins=60, kde=True, color='purple')\n",
    "plt.title('Salary Distribution (Converted to USD)')\n",
    "plt.show()"
   ]
  },
  {
   "cell_type": "code",
   "metadata": {},
   "outputs": [],
   "source": [
    "fig = px.box(df, y='salary_converted', points='outliers', title='Salary Boxplot')\n",
    "fig.show()"
   ]
  },
  {
   "cell_type": "markdown",
   "metadata": {},
   "source": [
    "### 5.2 Experience & Education"
   ]
  },
  {
   "cell_type": "code",
   "metadata": {},
   "outputs": [],
   "source": [
    "plt.figure(figsize=(10,4))\n",
    "sns.countplot(x='experience_level', data=df, order=df['experience_level'].value_counts().index, palette='coolwarm')\n",
    "plt.title('Experience Level Distribution')\n",
    "plt.show()\n",
    "\n",
    "plt.figure(figsize=(10,4))\n",
    "sns.countplot(x='education_required', data=df, order=df['education_required'].value_counts().index, palette='Blues')\n",
    "plt.title('Education Requirement Distribution')\n",
    "plt.show()"
   ]
  },
  {
   "cell_type": "markdown",
   "metadata": {},
   "source": [
    "### 5.3 Categorical Features"
   ]
  },
  {
   "cell_type": "code",
   "metadata": {},
   "outputs": [],
   "source": [
    "cat_feats = ['employment_type', 'company_size', 'industry', 'company_location', 'employee_residence']\n",
    "for col in cat_feats:\n",
    "    plt.figure(figsize=(10,3))\n",
    "    sns.countplot(y=col, data=df, order=df[col].value_counts().index[:10], palette='viridis')\n",
    "    plt.title(f'Top 10 {col} Distribution')\n",
    "    plt.tight_layout()\n",
    "    plt.show()"
   ]
  },
  {
   "cell_type": "markdown",
   "metadata": {},
   "source": [
    "## 6. Multivariate Analysis"
   ]
  },
  {
   "cell_type": "markdown",
   "metadata": {},
   "source": [
    "### 6.1 Salary by Experience Level, Education, and Company Size"
   ]
  },
  {
   "cell_type": "code",
   "metadata": {},
   "outputs": [],
   "source": [
    "plt.figure(figsize=(10,5))\n",
    "sns.barplot(x='experience_level', y='salary_converted', data=df, estimator=np.mean, ci='sd', palette='magma')\n",
    "plt.title('Avg Salary by Experience Level')\n",
    "plt.show()\n",
    "\n",
    "plt.figure(figsize=(10,5))\n",
    "sns.barplot(x='education_required', y='salary_converted', data=df, estimator=np.mean, ci='sd', palette='crest')\n",
    "plt.title('Avg Salary by Education Level')\n",
    "plt.show()\n",
    "\n",
    "plt.figure(figsize=(10,5))\n",
    "sns.barplot(x='company_size', y='salary_converted', data=df, estimator=np.mean, ci='sd', palette='ch:s')\n",
    "plt.title('Avg Salary by Company Size')\n",
    "plt.show()"
   ]
  },
  {
   "cell_type": "markdown",
   "metadata": {},
   "source": [
    "### 6.2 Salary by Industry & Country"
   ]
  },
  {
   "cell_type": "code",
   "metadata": {},
   "outputs": [],
   "source": [
    "top_ind = df.groupby('industry')['salary_converted'].median().sort_values(ascending=False).head(10)\n",
    "fig = px.bar(top_ind, orientation='h', title='Top 10 Industries by Median Salary', labels={'value':'Median Salary', 'industry':'Industry'})\n",
    "fig.update_layout(yaxis={'categoryorder':'total ascending'})\n",
    "fig.show()"
   ]
  },
  {
   "cell_type": "code",
   "metadata": {},
   "outputs": [],
   "source": [
    "top_country = df.groupby('company_location')['salary_converted'].median().sort_values(ascending=False).head(10)\n",
    "fig = px.bar(top_country, orientation='h', title='Top 10 Company Locations by Median Salary', labels={'value':'Median Salary', 'company_location':'Location'})\n",
    "fig.update_layout(yaxis={'categoryorder':'total ascending'})\n",
    "fig.show()"
   ]
  },
  {
   "cell_type": "markdown",
   "metadata": {},
   "source": [
    "### 6.3 Remote Work & Salary"
   ]
  },
  {
   "cell_type": "code",
   "metadata": {},
   "outputs": [],
   "source": [
    "sns.boxplot(x='remote_ratio', y='salary_converted', data=df, palette='rocket')\n",
    "plt.title('Remote Ratio vs Salary')\n",
    "plt.show()"
   ]
  },
  {
   "cell_type": "markdown",
   "metadata": {},
   "source": [
    "### 6.4 Posting Month/Year Trends"
   ]
  },
  {
   "cell_type": "code",
   "metadata": {},
   "outputs": [],
   "source": [
    "monthly = df.groupby(['posting_year', 'posting_month']).size().reset_index(name='job_count')\n",
    "fig = px.line(monthly, x='posting_month', y='job_count', color='posting_year', markers=True, title='Job Postings Over Time')\n",
    "fig.show()"
   ]
  },
  {
   "cell_type": "markdown",
   "metadata": {},
   "source": [
    "## 7. Skills Analysis"
   ]
  },
  {
   "cell_type": "code",
   "metadata": {},
   "outputs": [],
   "source": [
    "skills = df['required_skills'].dropna().str.split(', ')\n",
    "exploded = skills.explode()\n",
    "top_skills = exploded.value_counts().head(20)\n",
    "fig = px.bar(top_skills, orientation='h', title='Top 20 Most In-Demand Skills', labels={'value':'Count', 'index':'Skill'})\n",
    "fig.update_layout(yaxis={'categoryorder':'total ascending'})\n",
    "fig.show()"
   ]
  },
  {
   "cell_type": "markdown",
   "metadata": {},
   "source": [
    "### 7.1 Skill vs Salary Impact"
   ]
  },
  {
   "cell_type": "code",
   "metadata": {},
   "outputs": [],
   "source": [
    "skill_salary = []\n",
    "for skill in top_skills.index:\n",
    "    mask = df['required_skills'].str.contains(skill, na=False)\n",
    "    skill_salary.append({'skill':skill, 'avg_salary':df[mask]['salary_converted'].mean(), 'count':mask.sum()})\n",
    "skill_salary = pd.DataFrame(skill_salary).sort_values('avg_salary', ascending=False)\n",
    "fig = px.bar(skill_salary.head(15), x='skill', y='avg_salary', title='Top Skills by Avg Salary', labels={'avg_salary':'Avg Salary', 'skill':'Skill'})\n",
    "fig.show()"
   ]
  },
  {
   "cell_type": "markdown",
   "metadata": {},
   "source": [
    "## 8. Correlation Heatmap"
   ]
  },
  {
   "cell_type": "code",
   "metadata": {},
   "outputs": [],
   "source": [
    "corr = df[['salary_converted', 'years_experience', 'deadline_gap_days', 'remote_ratio']].corr()\n",
    "sns.heatmap(corr, annot=True, cmap='coolwarm')\n",
    "plt.title('Correlation Heatmap')\n",
    "plt.show()"
   ]
  },
  {
   "cell_type": "markdown",
   "metadata": {},
   "source": [
    "## 9. Outlier Analysis"
   ]
  },
  {
   "cell_type": "code",
   "metadata": {},
   "outputs": [],
   "source": [
    "fig = px.box(df, x='industry', y='salary_converted', points='suspectedoutliers', title='Salary Outliers by Industry')\n",
    "fig.update_layout(xaxis={'categoryorder':'total descending'})\n",
    "fig.show()"
   ]
  },
  {
   "cell_type": "markdown",
   "metadata": {},
   "source": [
    "# 10. Insights & Recommendations\n",
    "- Senior roles, and especially those in finance/technology/consulting, offer much higher pay.\n",
    "- Remote ratio has a mild positive effect on salary, but not always.\n",
    "- Top skills: Python, SQL, TensorFlow, AWS, and Tableau are everywhere, but rare skills (Kubernetes, GCP, Scala) pay more on average.\n",
    "- Posting activity peaks in Q2/Q4, suggesting hiring cycles.\n",
    "- Companies in US/Western Europe offer top salaries; company size and education also matter.\n",
    "- Outliers in salary often combine rare skills and seniority.\n",
    "\n",
    "## Creative Ideas:\n",
    "- Build a skill-salary matrix for career planning.\n",
    "- Look at job duration (deadline_gap_days) by role/industry.\n",
    "- Analyze remote ratios by country.\n",
    "- Detect rare job titles and map their salary/scope.\n",
    "- Use interactive Plotly maps for global job distribution.\n",
    "\n",
    "---\n",
    "### This EDA can be expanded with ML predictions, in-depth skill clusters, or even job market simulation!"
   ]
  }
 ],
 "metadata": {
  "kernelspec": {
   "display_name": "Python 3",
   "language": "python",
   "name": "python3"
  },
  "language_info": {
   "name": "python",
   "version": ""
  }
 },
 "nbformat": 4,
 "nbformat_minor": 5
}
